{
 "cells": [
  {
   "cell_type": "code",
   "execution_count": 133,
   "metadata": {
    "collapsed": false
   },
   "outputs": [
    {
     "name": "stdout",
     "output_type": "stream",
     "text": [
      "[{\"name\":\"MailChimp\",\"short_description\":\"Email marketing software.\",\"description\":\"MailChimp allows you to easily customize the way you send automated emails to most effectively market to your audience.\",\"link\":\"http:\\/\\/mailchimp.com\\/\",\"pricing\":\"New Business (Free), Growing Business ($10 per month), Pro Marketer (additional $199 per month)\",\"recommendation\":\"For any company that wants to customize and send automated emails to their audience.\",\"tags\":[\"Marketing\",\"Advertising\",\"User Retention\"],\"category\":\"Marketing\"},{\"name\":\"Basecamp\",\"short_description\":\"Project management tool.\",\"description\":\"Basecamp organizes all of your company's projects, communications, and resources in a centralized location.\",\"link\":\"https:\\/\\/basecamp.com\\/\",\"pricing\":\"$99 per month, $1100 per year\",\"recommendation\":\"Recommended if you have multiple projects at the same time and prefer to centralize team communications.\",\"tags\":[\"Project Management\",\"Communications\",\"Teamwork\"],\"category\":\"Teamwork\"},{\"name\":\"Trello\",\"short_description\":\"Project management tool.\",\"description\":\"Trello's drag-and-drop interface allows you to easily organize and manage your company's projects\",\"link\":\"https:\\/\\/trello.com\\/\",\"pricing\":\"Free, Business Class ($9.99 per month), Enterprise ($20.83 per month)\",\"recommendation\":\"Recommended if you prefer a visual-focused and user-friendly project management tool that is akin to using online whiteboards.\",\"tags\":[\"Project Management\",\" Communications\",\" Teamwork\"],\"category\":\"Teamwork\"},{\"name\":\"Slack\",\"short_description\":\"Internal communication app.\",\"description\":\"Slack organizes your internal communications through project-specific channels.\",\"link\":\"https:\\/\\/slack.com\\/ \",\"pricing\":\"Free, Standard ($6.67 per month), Plus ($12.50 per month)\",\"recommendation\":\"For any company that wants to organize internal communications for improved team collaboration.\",\"tags\":[\"Communications\",\" Teamwork\"],\"category\":\"Teamwork\"}]\n"
     ]
    }
   ],
   "source": [
    "#Scipt for converting TSV to our format\n",
    "\n",
    "import pandas as pd\n",
    "import json\n",
    "\n",
    "file_location = raw_input(\"Enter file name or location(in TSV format):: \")\n",
    "resources_data = pd.read_table(file_location)\n",
    "resources_data = resources_data.fillna(\"\")\n",
    "temp = resources_data\n",
    "for i in range(resources_data.shape[0]):\n",
    "    temp_tag = temp.tags[i]\n",
    "    temp_tags = temp_tag.split(\",\")\n",
    "    temp.set_value(i, 'tags', temp_tags)\n",
    "    \n",
    "print test.to_json(orient=\"records\")"
   ]
  }
 ],
 "metadata": {
  "anaconda-cloud": {},
  "kernelspec": {
   "display_name": "Python [conda root]",
   "language": "python",
   "name": "conda-root-py"
  },
  "language_info": {
   "codemirror_mode": {
    "name": "ipython",
    "version": 2
   },
   "file_extension": ".py",
   "mimetype": "text/x-python",
   "name": "python",
   "nbconvert_exporter": "python",
   "pygments_lexer": "ipython2",
   "version": "2.7.12"
  }
 },
 "nbformat": 4,
 "nbformat_minor": 1
}
